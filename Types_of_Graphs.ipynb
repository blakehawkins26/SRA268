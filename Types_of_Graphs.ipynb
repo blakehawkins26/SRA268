{
  "nbformat": 4,
  "nbformat_minor": 0,
  "metadata": {
    "colab": {
      "name": "Types of Graphs",
      "provenance": [],
      "collapsed_sections": [],
      "include_colab_link": true
    },
    "kernelspec": {
      "name": "python3",
      "display_name": "Python 3"
    }
  },
  "cells": [
    {
      "cell_type": "markdown",
      "metadata": {
        "id": "view-in-github",
        "colab_type": "text"
      },
      "source": [
        "<a href=\"https://colab.research.google.com/github/blakehawkins26/SRA268/blob/master/Types_of_Graphs.ipynb\" target=\"_parent\"><img src=\"https://colab.research.google.com/assets/colab-badge.svg\" alt=\"Open In Colab\"/></a>"
      ]
    },
    {
      "cell_type": "code",
      "metadata": {
        "id": "vLhzhFWeWffL",
        "colab_type": "code",
        "colab": {}
      },
      "source": [
        ""
      ],
      "execution_count": 0,
      "outputs": []
    },
    {
      "cell_type": "markdown",
      "metadata": {
        "id": "1snDKP2KU5om",
        "colab_type": "text"
      },
      "source": [
        "![alt text](https://raw.githubusercontent.com/blakehawkins26/SRA268/master/images/Screen%20Shot%202020-02-20%20at%2010.50.23%20AM.png)"
      ]
    },
    {
      "cell_type": "markdown",
      "metadata": {
        "id": "GiJMOjYvVQ0C",
        "colab_type": "text"
      },
      "source": [
        "![alt text](https://raw.githubusercontent.com/blakehawkins26/SRA268/master/images/Screen%20Shot%202020-02-20%20at%2010.50.51%20AM.png)"
      ]
    },
    {
      "cell_type": "markdown",
      "metadata": {
        "id": "YHeDMMHeTPsW",
        "colab_type": "text"
      },
      "source": [
        "![alt text](https://raw.githubusercontent.com/blakehawkins26/SRA268/master/images/Screen%20Shot%202020-02-20%20at%2010.51.19%20AM.png)"
      ]
    },
    {
      "cell_type": "markdown",
      "metadata": {
        "id": "legrBIwqYPCt",
        "colab_type": "text"
      },
      "source": [
        "![alt text](https://raw.githubusercontent.com/jmm8059/Visual_Analystics/master/images/Spine%20Graph%20v2.png)"
      ]
    },
    {
      "cell_type": "markdown",
      "metadata": {
        "id": "l8gSAEcJXcxw",
        "colab_type": "text"
      },
      "source": [
        "![Change Over Time](https://raw.githubusercontent.com/nlm30/SRA-268/master/Change%20over%20time.png)"
      ]
    },
    {
      "cell_type": "markdown",
      "metadata": {
        "id": "41zjzzfNYvaG",
        "colab_type": "text"
      },
      "source": [
        "![alt text](https://raw.githubusercontent.com/jmm8059/Visual_Analystics/master/images/Lolipop%20Graph.png)"
      ]
    },
    {
      "cell_type": "markdown",
      "metadata": {
        "id": "GMJb55tZXijm",
        "colab_type": "text"
      },
      "source": [
        "![alt text](https://raw.githubusercontent.com/nlm30/SRA-268/master/Distribution.png)"
      ]
    }
  ]
}