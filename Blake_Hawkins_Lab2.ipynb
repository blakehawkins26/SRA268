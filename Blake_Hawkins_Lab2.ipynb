{
  "nbformat": 4,
  "nbformat_minor": 0,
  "metadata": {
    "colab": {
      "name": "Blake Hawkins Lab2.ipynb",
      "provenance": [],
      "collapsed_sections": [],
      "include_colab_link": true
    },
    "kernelspec": {
      "name": "python3",
      "display_name": "Python 3"
    }
  },
  "cells": [
    {
      "cell_type": "markdown",
      "metadata": {
        "id": "view-in-github",
        "colab_type": "text"
      },
      "source": [
        "<a href=\"https://colab.research.google.com/github/blakehawkins26/SRA268/blob/master/Blake_Hawkins_Lab2.ipynb\" target=\"_parent\"><img src=\"https://colab.research.google.com/assets/colab-badge.svg\" alt=\"Open In Colab\"/></a>"
      ]
    },
    {
      "cell_type": "markdown",
      "metadata": {
        "id": "6sOc4Uyr4U-Z",
        "colab_type": "text"
      },
      "source": [
        "## Graph Types"
      ]
    },
    {
      "cell_type": "markdown",
      "metadata": {
        "id": "0zZdVLAd5CYr",
        "colab_type": "text"
      },
      "source": [
        "Creator\n",
        "* Blake Hawkins"
      ]
    },
    {
      "cell_type": "markdown",
      "metadata": {
        "id": "g-r6Clq45Hn4",
        "colab_type": "text"
      },
      "source": [
        "### Deviation\n"
      ]
    },
    {
      "cell_type": "markdown",
      "metadata": {
        "id": "2gorxo6E7A0t",
        "colab_type": "text"
      },
      "source": [
        "![alt text](https://raw.githubusercontent.com/jmm8059/Visual_Analystics/master/images/Spine%20Graph%20v2.png)"
      ]
    },
    {
      "cell_type": "markdown",
      "metadata": {
        "id": "w6bZ_NEi7E3w",
        "colab_type": "text"
      },
      "source": [
        "#### What is this telling us?"
      ]
    },
    {
      "cell_type": "markdown",
      "metadata": {
        "id": "95L-spaC7QHF",
        "colab_type": "text"
      },
      "source": [
        "This graph is a deviation based graph that. is showing us both the average win seed and average winning points of teams based on their mascot. The graph would be too large if we included every mascot so it was narrowed down to only mascots that start with the letter 'D'. This graph can be used to see how teams perform against their seed. Teams that have a higher average winning seed should generally have a lower point total scored becasue their offense is challeneged against the better, lower seeds. The colors of blue and red are used to differentiate between the vriables of seed and winning points."
      ]
    },
    {
      "cell_type": "markdown",
      "metadata": {
        "id": "YgXyXjmz7cDP",
        "colab_type": "text"
      },
      "source": [
        "### Correlation\n"
      ]
    },
    {
      "cell_type": "markdown",
      "metadata": {
        "id": "SGx15rZq7hvt",
        "colab_type": "text"
      },
      "source": [
        "![alt text](https://raw.githubusercontent.com/blakehawkins26/SRA268/master/images/Screen%20Shot%202020-02-20%20at%2010.50.23%20AM.png)"
      ]
    },
    {
      "cell_type": "markdown",
      "metadata": {
        "id": "dljjONNi7jmj",
        "colab_type": "text"
      },
      "source": [
        "#### What is this telling us?"
      ]
    },
    {
      "cell_type": "markdown",
      "metadata": {
        "id": "PwZEZrFB7laG",
        "colab_type": "text"
      },
      "source": [
        "This graph is a correlation bubble graph that is showing us how many total points the common name of the teams scored together. For exmample there are many teams that have a common name as a tiger or wildcat so generally those teams will have larger bubbles. That also means that those teams make the tournament more often. The size of the bubble along with the darkness of green represents the total ammount of points scored. The big un-labeled points represents all those teams that have common names and total points that are not big enought to represents their own bubble."
      ]
    },
    {
      "cell_type": "markdown",
      "metadata": {
        "id": "MqUdI-uL7r2s",
        "colab_type": "text"
      },
      "source": [
        "### Ranking\n"
      ]
    },
    {
      "cell_type": "markdown",
      "metadata": {
        "id": "AvlxCOVt7x9F",
        "colab_type": "text"
      },
      "source": [
        "![alt text](https://raw.githubusercontent.com/blakehawkins26/SRA268/master/images/Screen%20Shot%202020-02-20%20at%2011.26.38%20AM.png)"
      ]
    },
    {
      "cell_type": "markdown",
      "metadata": {
        "id": "lCAYtfza7yTq",
        "colab_type": "text"
      },
      "source": [
        "#### What is this telling us?"
      ]
    },
    {
      "cell_type": "markdown",
      "metadata": {
        "id": "MyuciD277ygU",
        "colab_type": "text"
      },
      "source": [
        "This is a ranking bar graph that shows the average winning points that are scored on a certain day of the week. They are ordered from least to greatest, therefore being a ranking graph. As you can see wednesday is the lowest of all becasue teams generally become tired mid week after playing multiple gmaes to start the week. There is also a space between each bar to make sure the reader can see the difference in days. The days should not blend together in this ranking grpah. The color palette was also properly used becasue the major difference is wednesday and that can be easily seen by the light blue/green color."
      ]
    },
    {
      "cell_type": "markdown",
      "metadata": {
        "id": "dGDGl8-G7y8Y",
        "colab_type": "text"
      },
      "source": [
        "### Distribution\n"
      ]
    },
    {
      "cell_type": "markdown",
      "metadata": {
        "id": "FB0uV-jy76p9",
        "colab_type": "text"
      },
      "source": [
        "![alt text](https://raw.githubusercontent.com/nlm30/SRA-268/master/Distribution.png)"
      ]
    },
    {
      "cell_type": "markdown",
      "metadata": {
        "id": "_6SOzhrQ76zH",
        "colab_type": "text"
      },
      "source": [
        "#### What is this telling us?"
      ]
    },
    {
      "cell_type": "markdown",
      "metadata": {
        "id": "HBWqsS_g767h",
        "colab_type": "text"
      },
      "source": [
        "This is a distribution graph using a bar chart to represent the ammount of times a winning score landed on each individual point. Unlike the graph prior, the space in between the bars in this distribution grpah are much smaller to show the shape of the graph. This is useful becasue there is a small difference in the ammount of points socred compared. Because of the exponential jumps on the y-axis, labels were added above each bar to represent the accuratte measure of the ammount of occurnaces. All grpahs must start the y-axis at 0 or else it can be misleading to the viewer."
      ]
    },
    {
      "cell_type": "markdown",
      "metadata": {
        "id": "wQsDThk677Fy",
        "colab_type": "text"
      },
      "source": [
        "### Change over Time\n"
      ]
    },
    {
      "cell_type": "markdown",
      "metadata": {
        "id": "Z1j_YLOA7_OK",
        "colab_type": "text"
      },
      "source": [
        "![alt text](https://raw.githubusercontent.com/blakehawkins26/SRA268/master/images/Screen%20Shot%202020-02-20%20at%2010.50.51%20AM.png)"
      ]
    },
    {
      "cell_type": "markdown",
      "metadata": {
        "id": "mpfsmmgi7_Vj",
        "colab_type": "text"
      },
      "source": [
        "#### What is this telling us?"
      ]
    },
    {
      "cell_type": "markdown",
      "metadata": {
        "id": "rYLXoMMO7_di",
        "colab_type": "text"
      },
      "source": [
        "This graph is a line chart that shows the tournaments average win seed over the years of the data provided. A line chart is good to represent time becasue it is a continuous line that represents the change over time. From this graph, we can see that in the end of the 1900's and into the early 2000's that the lower seeds generally dominated more than the higher seeds. This began to change around 2013 when teams were becoming more competitive and recurining classes began to spread out. There have definitly been more upsets in the recent years and this grpah shows it."
      ]
    },
    {
      "cell_type": "markdown",
      "metadata": {
        "id": "lFwiHoE-7_jZ",
        "colab_type": "text"
      },
      "source": [
        "### Magnitude\n"
      ]
    },
    {
      "cell_type": "markdown",
      "metadata": {
        "id": "ICQFnXj78EbF",
        "colab_type": "text"
      },
      "source": [
        "![alt text](https://raw.githubusercontent.com/nlm30/SRA-268/master/Change%20over%20time.png)"
      ]
    },
    {
      "cell_type": "markdown",
      "metadata": {
        "id": "QGG7XYG88Eii",
        "colab_type": "text"
      },
      "source": [
        "#### What is this telling us?"
      ]
    },
    {
      "cell_type": "markdown",
      "metadata": {
        "id": "VS7uGa0l8Eos",
        "colab_type": "text"
      },
      "source": [
        "This bar chart is a magnitude graph becasue it shows the differences in the data. Unlike the other bar charts in this lab, this graph isnt visually ranked but is not close ogether to show the shape of the grpah. It shows the overall highs and lows throughout time. One can see that 1989 had the most average points scored in the tournament vs. 2013 where there was a lower average points scored. This can be contributed to the ammount of defense being played and the ammount of close games in that particular season."
      ]
    },
    {
      "cell_type": "markdown",
      "metadata": {
        "id": "bEKFxP8R8Evk",
        "colab_type": "text"
      },
      "source": [
        "### Part-to-Whole\n"
      ]
    },
    {
      "cell_type": "markdown",
      "metadata": {
        "id": "WFHlcYKV8E35",
        "colab_type": "text"
      },
      "source": [
        "![alt text](https://raw.githubusercontent.com/blakehawkins26/SRA268/master/images/Screen%20Shot%202020-02-20%20at%2010.51.19%20AM.png)"
      ]
    },
    {
      "cell_type": "markdown",
      "metadata": {
        "id": "PNSd3wlp8UZH",
        "colab_type": "text"
      },
      "source": [
        "#### What is this telling us?"
      ]
    },
    {
      "cell_type": "markdown",
      "metadata": {
        "id": "y9tb_QRA8aqt",
        "colab_type": "text"
      },
      "source": [
        "This is a part - to - whole grpah that is a treemap of the winning class speacies over academic years. This is the winner species class total games won. It makes sense to have birds and mammals win the most out of any species class becasue they have the largest represented teams in the tournament every year. Insects and arachnids are hard to come by but have won tournament games here and there over the years. This grpah is accurately represented in a tree map becasue it shows the domminance of the top two class species in the tournament every year. The empty big box represents all the teams in a class species not big enough to be represented on this grpah."
      ]
    }
  ]
}