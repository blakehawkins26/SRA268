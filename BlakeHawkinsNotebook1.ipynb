{
  "nbformat": 4,
  "nbformat_minor": 0,
  "metadata": {
    "colab": {
      "name": "BlakeHawkinsNotebook1.ipynb",
      "provenance": [],
      "collapsed_sections": [],
      "authorship_tag": "ABX9TyN1fSmB8/i6p6dRMoDJ29pQ",
      "include_colab_link": true
    },
    "kernelspec": {
      "name": "python3",
      "display_name": "Python 3"
    }
  },
  "cells": [
    {
      "cell_type": "markdown",
      "metadata": {
        "id": "view-in-github",
        "colab_type": "text"
      },
      "source": [
        "<a href=\"https://colab.research.google.com/github/blakehawkins26/SRA268/blob/master/BlakeHawkinsNotebook1.ipynb\" target=\"_parent\"><img src=\"https://colab.research.google.com/assets/colab-badge.svg\" alt=\"Open In Colab\"/></a>"
      ]
    },
    {
      "cell_type": "code",
      "metadata": {
        "id": "37YMhAVE4vmM",
        "colab_type": "code",
        "colab": {}
      },
      "source": [
        ""
      ],
      "execution_count": 0,
      "outputs": []
    },
    {
      "cell_type": "markdown",
      "metadata": {
        "id": "jmC9NAeRsH_g",
        "colab_type": "text"
      },
      "source": [
        "# Percipitation and Temperatures of summer months in 2018"
      ]
    },
    {
      "cell_type": "markdown",
      "metadata": {
        "id": "nbOd-o4VtYN_",
        "colab_type": "text"
      },
      "source": [
        "# Outline of project idea"
      ]
    },
    {
      "cell_type": "markdown",
      "metadata": {
        "id": "eiZ2rcWAtdtk",
        "colab_type": "text"
      },
      "source": [
        "For this project I will be looking at the changes in temperature and precipitation in the summer months of 2018. The summer months that I will be using is May and June. If there is no percipitation on a day it will be ignored. Since the data only shows max and min temperatures,I have taken the average temperatures for all the days with percipitation."
      ]
    },
    {
      "cell_type": "markdown",
      "metadata": {
        "id": "X9Lrmody27Qf",
        "colab_type": "text"
      },
      "source": [
        "# Sketch"
      ]
    },
    {
      "cell_type": "markdown",
      "metadata": {
        "id": "1vpH03n13AP5",
        "colab_type": "text"
      },
      "source": [
        "![Graph Sketch](https://raw.githubusercontent.com/blakehawkins26/SRA268/master/images/image0.jpeg)"
      ]
    },
    {
      "cell_type": "markdown",
      "metadata": {
        "id": "Wpd4Q_tCy9bp",
        "colab_type": "text"
      },
      "source": [
        "# Conclusion"
      ]
    },
    {
      "cell_type": "markdown",
      "metadata": {
        "id": "e8UyZe6rzC99",
        "colab_type": "text"
      },
      "source": [
        "When doing the sketch of the graph with some data points I did not see a correlation between percipitation and temperature during those months. However, after plotting some of the points during the month, I noticed that 2 of the top 3 days with the highest percipitation were both the days that had the highest max and lowest min temperatures of May and June."
      ]
    }
  ]
}